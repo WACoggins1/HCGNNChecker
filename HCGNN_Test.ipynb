{
  "nbformat": 4,
  "nbformat_minor": 0,
  "metadata": {
    "colab": {
      "provenance": [],
      "authorship_tag": "ABX9TyMCPxlWeXKwKjrOhZNIUxM9",
      "include_colab_link": true
    },
    "kernelspec": {
      "name": "python3",
      "display_name": "Python 3"
    },
    "language_info": {
      "name": "python"
    }
  },
  "cells": [
    {
      "cell_type": "markdown",
      "metadata": {
        "id": "view-in-github",
        "colab_type": "text"
      },
      "source": [
        "<a href=\"https://colab.research.google.com/github/WACoggins1/HCGNNChecker/blob/main/HCGNN_Test.ipynb\" target=\"_parent\"><img src=\"https://colab.research.google.com/assets/colab-badge.svg\" alt=\"Open In Colab\"/></a>"
      ]
    },
    {
      "cell_type": "code",
      "execution_count": 3,
      "metadata": {
        "id": "gjw2aaX5riqB"
      },
      "outputs": [],
      "source": [
        "import torch\n",
        "from torch_geometric.data import Data\n",
        "from torch_geometric.loader import DataLoader\n",
        "from torch_geometric.nn import MessagePassing\n",
        "import networkx as nx\n",
        "import random\n",
        "\n",
        "def generate_random_graph_with_cycle(num_nodes):\n",
        "    # 1. Create a Hamiltonian cycle\n",
        "    cycle_nodes = list(range(num_nodes))\n",
        "    random.shuffle(cycle_nodes)\n",
        "\n",
        "    # 2. Build a NetworkX graph with the forced cycle\n",
        "    G = nx.Graph()\n",
        "    G.add_nodes_from(cycle_nodes)\n",
        "    for i in range(num_nodes):\n",
        "        # Add edge between consecutive nodes in cycle\n",
        "        u = cycle_nodes[i]\n",
        "        v = cycle_nodes[(i+1) % num_nodes]\n",
        "        G.add_edge(u, v)\n",
        "\n",
        "    # 3. Randomly add extra edges\n",
        "    extra_edges = int(num_nodes * 1.5)  # You can tweak\n",
        "    for _ in range(extra_edges):\n",
        "        u = random.randint(0, num_nodes-1)\n",
        "        v = random.randint(0, num_nodes-1)\n",
        "        if u != v:\n",
        "            G.add_edge(u, v)\n",
        "\n",
        "    # The forced cycle is known:\n",
        "    cycle_edges = set()\n",
        "    for i in range(num_nodes):\n",
        "        u = cycle_nodes[i]\n",
        "        v = cycle_nodes[(i+1) % num_nodes]\n",
        "        cycle_edges.add((min(u,v), max(u,v)))\n",
        "\n",
        "    return G, cycle_edges\n",
        "\n",
        "def build_pyg_data(G, cycle_edges):\n",
        "    \"\"\"Build a PyG Data object with node features, edge index, edge features, and edge labels.\"\"\"\n",
        "    # Sort the edges to have consistent ordering\n",
        "    sorted_edges = sorted(list(G.edges()))\n",
        "\n",
        "    # Node features (degree, for instance)\n",
        "    degrees = [G.degree(n) for n in G.nodes()]\n",
        "    x = torch.tensor(degrees, dtype=torch.float).view(-1, 1)  # shape [num_nodes, 1]\n",
        "\n",
        "    # Build edge index\n",
        "    edge_index = torch.tensor([[u, v] for (u, v) in sorted_edges], dtype=torch.long).t()  # shape [2, num_edges]\n",
        "\n",
        "    # Edge features: e.g., sum of node degrees\n",
        "    edge_feats = []\n",
        "    edge_labels = []\n",
        "    n = G.number_of_nodes()\n",
        "    for (u, v) in sorted_edges:\n",
        "        sum_deg = G.degree(u) + G.degree(v)\n",
        "        # Possibly normalized sum\n",
        "        feat = [sum_deg / n]\n",
        "        edge_feats.append(feat)\n",
        "\n",
        "        # Label = 1 if edge is in the forced cycle\n",
        "        label = 1 if (min(u,v), max(u,v)) in cycle_edges else 0\n",
        "        edge_labels.append(label)\n",
        "\n",
        "    edge_attr = torch.tensor(edge_feats, dtype=torch.float)  # shape [num_edges, num_edge_features]\n",
        "    edge_labels = torch.tensor(edge_labels, dtype=torch.long) # shape [num_edges]\n",
        "\n",
        "    data = Data(\n",
        "        x=x,\n",
        "        edge_index=edge_index,\n",
        "        edge_attr=edge_attr,\n",
        "        y=edge_labels  # For edge classification, we often store these separately\n",
        "    )\n",
        "    return data\n",
        "\n",
        "\n",
        "# Example usage\n",
        "num_graphs = 10\n",
        "dataset = []\n",
        "for _ in range(num_graphs):\n",
        "    G, cycle_edges = generate_random_graph_with_cycle(num_nodes=15)\n",
        "    data_obj = build_pyg_data(G, cycle_edges)\n",
        "    dataset.append(data_obj)\n",
        "\n",
        "loader = DataLoader(dataset, batch_size=2, shuffle=True)\n"
      ]
    },
    {
      "cell_type": "code",
      "source": [
        "pip install torch-geometric\n"
      ],
      "metadata": {
        "colab": {
          "base_uri": "https://localhost:8080/"
        },
        "id": "SJCrtpvssEVv",
        "outputId": "e44819d0-5194-4c6a-8900-5863364b9b09"
      },
      "execution_count": 2,
      "outputs": [
        {
          "output_type": "stream",
          "name": "stdout",
          "text": [
            "Collecting torch-geometric\n",
            "  Downloading torch_geometric-2.6.1-py3-none-any.whl.metadata (63 kB)\n",
            "\u001b[?25l     \u001b[90m━━━━━━━━━━━━━━━━━━━━━━━━━━━━━━━━━━━━━━━━\u001b[0m \u001b[32m0.0/63.1 kB\u001b[0m \u001b[31m?\u001b[0m eta \u001b[36m-:--:--\u001b[0m\r\u001b[2K     \u001b[90m━━━━━━━━━━━━━━━━━━━━━━━━━━━━━━━━━━━━━━━━\u001b[0m \u001b[32m63.1/63.1 kB\u001b[0m \u001b[31m2.9 MB/s\u001b[0m eta \u001b[36m0:00:00\u001b[0m\n",
            "\u001b[?25hRequirement already satisfied: aiohttp in /usr/local/lib/python3.11/dist-packages (from torch-geometric) (3.11.11)\n",
            "Requirement already satisfied: fsspec in /usr/local/lib/python3.11/dist-packages (from torch-geometric) (2024.10.0)\n",
            "Requirement already satisfied: jinja2 in /usr/local/lib/python3.11/dist-packages (from torch-geometric) (3.1.5)\n",
            "Requirement already satisfied: numpy in /usr/local/lib/python3.11/dist-packages (from torch-geometric) (1.26.4)\n",
            "Requirement already satisfied: psutil>=5.8.0 in /usr/local/lib/python3.11/dist-packages (from torch-geometric) (5.9.5)\n",
            "Requirement already satisfied: pyparsing in /usr/local/lib/python3.11/dist-packages (from torch-geometric) (3.2.1)\n",
            "Requirement already satisfied: requests in /usr/local/lib/python3.11/dist-packages (from torch-geometric) (2.32.3)\n",
            "Requirement already satisfied: tqdm in /usr/local/lib/python3.11/dist-packages (from torch-geometric) (4.67.1)\n",
            "Requirement already satisfied: aiohappyeyeballs>=2.3.0 in /usr/local/lib/python3.11/dist-packages (from aiohttp->torch-geometric) (2.4.4)\n",
            "Requirement already satisfied: aiosignal>=1.1.2 in /usr/local/lib/python3.11/dist-packages (from aiohttp->torch-geometric) (1.3.2)\n",
            "Requirement already satisfied: attrs>=17.3.0 in /usr/local/lib/python3.11/dist-packages (from aiohttp->torch-geometric) (24.3.0)\n",
            "Requirement already satisfied: frozenlist>=1.1.1 in /usr/local/lib/python3.11/dist-packages (from aiohttp->torch-geometric) (1.5.0)\n",
            "Requirement already satisfied: multidict<7.0,>=4.5 in /usr/local/lib/python3.11/dist-packages (from aiohttp->torch-geometric) (6.1.0)\n",
            "Requirement already satisfied: propcache>=0.2.0 in /usr/local/lib/python3.11/dist-packages (from aiohttp->torch-geometric) (0.2.1)\n",
            "Requirement already satisfied: yarl<2.0,>=1.17.0 in /usr/local/lib/python3.11/dist-packages (from aiohttp->torch-geometric) (1.18.3)\n",
            "Requirement already satisfied: MarkupSafe>=2.0 in /usr/local/lib/python3.11/dist-packages (from jinja2->torch-geometric) (3.0.2)\n",
            "Requirement already satisfied: charset-normalizer<4,>=2 in /usr/local/lib/python3.11/dist-packages (from requests->torch-geometric) (3.4.1)\n",
            "Requirement already satisfied: idna<4,>=2.5 in /usr/local/lib/python3.11/dist-packages (from requests->torch-geometric) (3.10)\n",
            "Requirement already satisfied: urllib3<3,>=1.21.1 in /usr/local/lib/python3.11/dist-packages (from requests->torch-geometric) (2.3.0)\n",
            "Requirement already satisfied: certifi>=2017.4.17 in /usr/local/lib/python3.11/dist-packages (from requests->torch-geometric) (2024.12.14)\n",
            "Downloading torch_geometric-2.6.1-py3-none-any.whl (1.1 MB)\n",
            "\u001b[2K   \u001b[90m━━━━━━━━━━━━━━━━━━━━━━━━━━━━━━━━━━━━━━━━\u001b[0m \u001b[32m1.1/1.1 MB\u001b[0m \u001b[31m24.5 MB/s\u001b[0m eta \u001b[36m0:00:00\u001b[0m\n",
            "\u001b[?25hInstalling collected packages: torch-geometric\n",
            "Successfully installed torch-geometric-2.6.1\n"
          ]
        }
      ]
    }
  ]
}